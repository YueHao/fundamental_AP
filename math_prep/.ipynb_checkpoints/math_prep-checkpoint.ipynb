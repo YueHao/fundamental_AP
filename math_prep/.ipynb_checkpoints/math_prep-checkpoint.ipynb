{
 "cells": [
  {
   "cell_type": "markdown",
   "metadata": {},
   "source": [
    "# Math Review"
   ]
  },
  {
   "cell_type": "markdown",
   "metadata": {},
   "source": [
    "## Linear Algebra"
   ]
  },
  {
   "cell_type": "markdown",
   "metadata": {},
   "source": [
    "Linear relation can be expressed by $m\\times n$ matrix  to connect the input of dimension $m$ and response of dimension $n$:\n",
    "\\begin{align}\n",
    "A=\\left(\\begin{array}{cccc}\n",
    "a_{11} & a_{12} & \\cdots & a_{1m}\\\\\n",
    "a_{21} & a_{22} & \\cdots & a_{2m}\\\\\n",
    "\\vdots & \\vdots & \\ddots & \\vdots\\\\\n",
    "a_{n1} & a_{n2} & \\cdots & a_{nm}\n",
    "\\end{array}\\right)\n",
    "\\end{align}"
   ]
  },
  {
   "cell_type": "markdown",
   "metadata": {},
   "source": [
    "### Linear properties"
   ]
  },
  {
   "cell_type": "markdown",
   "metadata": {},
   "source": [
    "If $A$ and $B$ are two matrices with same size $m\\times n$, the sum of the two matrices C is the same size with\n",
    "\\begin{equation}\n",
    "C=A+B=B+A\n",
    "\\end{equation}\n",
    "\\begin{equation}\n",
    "C_{ij}=A_{ij}+B_{ij}\n",
    "\\end{equation}\n",
    "\n",
    "The matrix can be scaled by a constant number $k$, aka, scalar multiplication.\n",
    "\\begin{equation}\n",
    "C=kA=Ak\n",
    "\\end{equation}\n",
    "\\begin{equation}\n",
    "C_{ij}=k A_{ij}\n",
    "\\end{equation}\n",
    "\n",
    "Matrix $A$ of size $m\\times n$ as its transpose $A^T$:\n",
    "\\begin{equation}\n",
    "A_{ij}^T=A_{ji}\n",
    "\\end{equation}"
   ]
  },
  {
   "cell_type": "markdown",
   "metadata": {},
   "source": [
    "### Matrix multiplication"
   ]
  },
  {
   "cell_type": "markdown",
   "metadata": {},
   "source": [
    "Two matrices, $A$ with size $m\\times n$ and $B$ with $n\\times p$ can be multiplied using matrix multiplication to get $C$ with size of $m\\times p$:\n",
    "\\begin{equation}\n",
    "C=AB\n",
    "\\end{equation}\n",
    "\\begin{equation}\n",
    "C_{ij}=\\sum_{k=1}^{n}A_{ik}B_{kj}\n",
    "\\end{equation}\n",
    "![](matrix_multiplication.svg)\n",
    "In general $AB\\ne BA$, even if both multiplications are defined"
   ]
  },
  {
   "cell_type": "markdown",
   "metadata": {},
   "source": [
    "### Square matrix"
   ]
  },
  {
   "cell_type": "markdown",
   "metadata": {},
   "source": [
    "When the size of the two dimensions are same, the matrix is square matrix:\n",
    "\\begin{align}\n",
    "A=\\left(\\begin{array}{cccc}\n",
    "a_{11} & a_{12} & \\cdots & a_{1n}\\\\\n",
    "a_{21} & a_{22} & \\cdots & a_{2n}\\\\\n",
    "\\vdots & \\vdots & \\ddots & \\vdots\\\\\n",
    "a_{n1} & a_{n2} & \\cdots & a_{nn}\n",
    "\\end{array}\\right)\n",
    "\\end{align}\n",
    "A is a square matrix of size $N$."
   ]
  },
  {
   "cell_type": "markdown",
   "metadata": {},
   "source": [
    "### Diagonal matrix\n",
    "If the element of a square matrix $A$ $a_{ij}$ are zeros for all $i\\ne j$, A is a diagonal matrix.\n",
    "\\begin{align}\n",
    "A=\\left(\\begin{array}{cccc}\n",
    "a_{11} & 0 & \\cdots & 0\\\\\n",
    "0 & a_{22} & \\cdots & 0\\\\\n",
    "\\vdots & \\vdots & \\ddots & \\vdots\\\\\n",
    "0 & 0 & \\cdots & a_{nn}\n",
    "\\end{array}\\right)\n",
    "\\end{align}\n",
    "\n",
    "If A and B are all diagonal matrices, the multiplication is commutative:\n",
    "\\begin{align}\n",
    "AB=BA\n",
    "\\end{align}\n",
    "\n",
    "A special case of diagonal matrix is unit matrix $I$:\n",
    "\\begin{align}\n",
    "I=\\left(\\begin{array}{cccc}\n",
    "1 & 0 & \\cdots & 0\\\\\n",
    "0 & 1 & \\cdots & 0\\\\\n",
    "\\vdots & \\vdots & \\ddots & \\vdots\\\\\n",
    "0 & 0 & \\cdots & 1\n",
    "\\end{array}\\right)\n",
    "\\end{align}\n",
    "\n",
    "It is the matrix version of 1 in real number, which satisfies:\n",
    "\\begin{align}\n",
    "AI=IA=A\n",
    "\\end{align}\n",
    "\n"
   ]
  },
  {
   "cell_type": "markdown",
   "metadata": {},
   "source": [
    "### Trace of square matrix"
   ]
  },
  {
   "cell_type": "markdown",
   "metadata": {},
   "source": [
    "The trace of a square matrix $A$ is:\n",
    "\\begin{align}\n",
    "\\DeclareMathOperator{\\Tr}{Tr}\n",
    "\\Tr{A}=\\sum_{i=1}^{n}A_{nn}\n",
    "\\end{align}\n",
    "\n",
    "Apparently, trace operator is linear:\n",
    "\\begin{align}\n",
    "\\DeclareMathOperator{\\Tr}{Tr}\n",
    "\\Tr{\\left(\\alpha A + \\beta B\\right)}=\\alpha \\Tr{A} + \\beta \\Tr {B}\n",
    "\\end{align}\n",
    "\n",
    "And, \n",
    "\\begin{align}\n",
    "\\DeclareMathOperator{\\Tr}{Tr}\n",
    "\\Tr{AB}=\\Tr{BA} \\quad\\text{even when } AB\\ne BA\n",
    "\\end{align}\n",
    "\n",
    "In general, trace of matrix multiplication is constant under cyclic permutation:\n",
    "\\begin{align}\n",
    "\\DeclareMathOperator{\\Tr}{Tr}\n",
    "\\Tr{\\left(A_1A_2\\cdots A_n\\right)}=\\Tr{\\left(A_nA_1A_2\\cdots A_{n-1}\\right)}=\n",
    "\\cdots=\\Tr{\\left(A_2A_3\\cdots A_{n}A_{1}\\right)}\n",
    "\\end{align}"
   ]
  },
  {
   "cell_type": "markdown",
   "metadata": {},
   "source": [
    "### Determinant of square matrix"
   ]
  },
  {
   "cell_type": "markdown",
   "metadata": {},
   "source": [
    "A square matrix has a quantity called determinant.  If the the determinant is non zero, $\\det{A}\\ne 0$, the matrix is invertible and its invert matrix:\n",
    "\\begin{align}\n",
    "AA^{-1}=A^{-1}A=I\n",
    "\\end{align}\n",
    "\n",
    "For $2\\times 2$ matrix, the determinant is calculated by:\n",
    "\n",
    "\\begin{align}\n",
    "\\det{\\left(\\begin{array}{cc}\n",
    "a & b \\\\\n",
    "c & d \n",
    "\\end{array}\\right)}\n",
    "=ad-bc\n",
    "\\end{align}\n",
    "\n",
    "The determinant has the following property on a $n\\times n$ square matrix:\n",
    "\\begin{align}\n",
    "&\\det A=\\det A^T\\\\\n",
    "&\\det \\left(kA\\right)=k^n A \\\\\n",
    "&\\det \\left(AB\\right)=\\det{A}\\det{B}\n",
    "\\end{align}"
   ]
  },
  {
   "cell_type": "markdown",
   "metadata": {},
   "source": [
    "### Eigensystems of square matrix"
   ]
  },
  {
   "cell_type": "markdown",
   "metadata": {},
   "source": [
    "If we can find a number $\\lambda$ and a non-zero vector $X$ for a square matrix $A$ with size $N$ and satisfy:\n",
    "\\begin{align}\n",
    "AX=\\lambda X\n",
    "\\end{align}\n",
    "or:\n",
    "\\begin{align}\n",
    "\\left(A-\\lambda I\\right)X=0\n",
    "\\end{align}\n",
    "which requires $\\det\\left(A-\\lambda I\\right)=0$, which is a $n^{\\text{th}}$ order polynomial.\n",
    "\n",
    "If the polynomial can be factorized by $\\prod_i^N\\left(\\lambda-\\lambda_i\\right)=0$, the $\\lambda_i$s are the eigenvalues of the matrix $A$.  If we can find $N$ independent vectors $X_i$, the matrix $A$ can be be expressed using eigenvalue decomposition:\n",
    "\\begin{align}\n",
    "Q^{-1}AQ=\\Lambda\n",
    "\\end{align}\n",
    "where, \n",
    "\\begin{align}\n",
    "Q&=\\left(\\begin{array}{cccc}\n",
    "X_1 & X_2 & \\cdots & X_N\n",
    "\\end{array}\\right) \\\\\n",
    "A&=\\left(\\begin{array}{cccc}\n",
    "\\lambda_1 & 0 & \\cdots & 0\\\\\n",
    "0 & \\lambda_2 & \\cdots & 0\\\\\n",
    "\\vdots & \\vdots & \\ddots & \\vdots\\\\\n",
    "0 & 0 & \\cdots & \\lambda_N\n",
    "\\end{array}\\right)\n",
    "\\end{align}"
   ]
  },
  {
   "cell_type": "markdown",
   "metadata": {},
   "source": [
    "## Primer of Relativistic Mechanics"
   ]
  },
  {
   "cell_type": "markdown",
   "metadata": {},
   "source": [
    "When object 's speed is comparable to the speed of light, we need to use relativistic mechanics to describe the motion of the object.  \n",
    "The relativistic factors are defined as:\n",
    "\\begin{align}\n",
    "\\boldsymbol{\\beta}&=\\frac{\\mathbf{v}}{c}\\\\\n",
    "\\gamma&=\\frac{1}{\\sqrt{1-\\beta^2}}\n",
    "\\end{align}\n",
    "The momentum of the particle, instead of $\\mathbf{P}=m\\mathbf{v}$, we have\n",
    "\\begin{align}\n",
    "\\mathbf{P}=\\gamma m\\mathbf{v}\n",
    "\\end{align}\n",
    "This can be viewed as the mass of the object is 'heavier' by factor of $\\gamma$.\n",
    " \n",
    "The energy of the object reads:\n",
    "\\begin{align}\n",
    "E&=\\sqrt{P^2c^2+\\left(mc^2\\right)^2}\\\\\n",
    "&=\\gamma m c^2\n",
    "\\end{align}"
   ]
  },
  {
   "cell_type": "markdown",
   "metadata": {},
   "source": [
    "### Lorentz transformation"
   ]
  },
  {
   "cell_type": "markdown",
   "metadata": {},
   "source": [
    "<img src=lorentz.png width=200>\n",
    "\n",
    "If the coordinate system $K'$ is moving away from the system $K$ with velocity $\\boldsymbol{\\beta}c$, where the velocity direction is along the $z$ direction.  The coordinates of both systems is linked with:\n",
    "\n",
    "\\begin{align}\n",
    "x'&=x\\\\\n",
    "y'&=y\\\\\n",
    "z'&=\\gamma\\left(z-\\beta c t\\right)\\\\\n",
    "t'&=\\gamma\\left(t-\\beta z/c\\right)\n",
    "\\end{align}\n",
    "\n",
    "or in matrix form:\n",
    "\\begin{align}\n",
    "\\left(\\begin{array}{c}\n",
    "x'\\\\\n",
    "y'\\\\\n",
    "z'\\\\\n",
    "ct'\n",
    "\\end{array}\\right)=\\left(\\begin{array}{cccc}\n",
    "1 & 0 & 0 & 0\\\\\n",
    "0 & 1 & 0 & 0\\\\\n",
    "0 & 0 & \\gamma & -\\gamma\\beta\\\\\n",
    "0 & 0 & -\\gamma\\beta & \\gamma\n",
    "\\end{array}\\right)\\left(\\begin{array}{c}\n",
    "x\\\\\n",
    "y\\\\\n",
    "z\\\\\n",
    "ct\n",
    "\\end{array}\\right)\n",
    "\\end{align}\n"
   ]
  },
  {
   "cell_type": "markdown",
   "metadata": {},
   "source": [
    "### Time dilation"
   ]
  },
  {
   "cell_type": "markdown",
   "metadata": {},
   "source": [
    "Time dilation is the result of Lorentz transformation. Two events happens $\\Delta t$ apart at same location in reference frame $K$.  If the observer is in the Lorentz boosted frame $K'$, the time difference is \n",
    "\\begin{align}\n",
    "\\Delta t'=\\gamma \\Delta t\n",
    "\\end{align}"
   ]
  },
  {
   "cell_type": "markdown",
   "metadata": {},
   "source": [
    "### Length contraction."
   ]
  },
  {
   "cell_type": "markdown",
   "metadata": {},
   "source": [
    "If an object is at rest in frame $K$ and has length $L$ in $z$ direction, the observer is measuring the length of that object in frame $K'$ by measure both ends of that object simultaneously ($\\Delta t'=0$).\n",
    "\n",
    "Using the invert Lorentz transformation:\n",
    "\\begin{align}\n",
    "L=\\Delta z=\\gamma \\Delta z'+ \\gamma\\beta c \\Delta t'\n",
    "\\end{align}\n",
    "\n",
    "Therefore the measured length is:\n",
    "\\begin{align}\n",
    "\\Delta z' = \\frac{L}{\\gamma}\n",
    "\\end{align}"
   ]
  },
  {
   "cell_type": "markdown",
   "metadata": {},
   "source": [
    "## Differential Equation"
   ]
  },
  {
   "cell_type": "markdown",
   "metadata": {},
   "source": [
    "Here, we limit our discussion to oridnary differential equation of the first order and second order.  Here are some examples:\n",
    "* First order homogeneous equation\n",
    "\\begin{align}\n",
    "\\frac{dx}{dt}+b(x)=0\n",
    "\\end{align}\n",
    "* First order inhomogeneous equation\n",
    "\\begin{align}\n",
    "\\frac{dx}{dt}+b(x)=f(t)\n",
    "\\end{align}\n",
    "* Second order homogeneous equation\n",
    "\\begin{align}\n",
    "\\frac{d^2x}{dt^2}+a(x)\\frac{dx}{dt}+b(x)=0\n",
    "\\end{align}\n",
    "* Second order inhomogeneous equation\n",
    "\\begin{align}\n",
    "\\frac{d^2x}{dt^2}+a(x)\\frac{dx}{dt}+b(x)=f(t)\n",
    "\\end{align}"
   ]
  },
  {
   "cell_type": "markdown",
   "metadata": {},
   "source": [
    "### Harmonic oscillator"
   ]
  },
  {
   "cell_type": "markdown",
   "metadata": {},
   "source": [
    "The motion of harmonic oscillator satisfy a second order differential equation.\n",
    "\\begin{align}\n",
    "\\frac{d^2x}{dt^2}+\\omega^2 x=0\n",
    "\\end{align}\n",
    "\n",
    "The solution to the equation is\n",
    "\\begin{align}\n",
    "x=Ae^{i\\omega t}+Be^{-i\\omega t}\n",
    "\\end{align}\n",
    "\n",
    "Here the constant $A$ and $B$ has to be determined by initial condition, e.g. the $x(t=0)$ and $x'(t=0)$.  Alternatively the solution can be written as:\n",
    "\\begin{align}\n",
    "x=A\\cos\\left(\\omega t+\\phi_0\\right)\n",
    "\\end{align}"
   ]
  },
  {
   "cell_type": "markdown",
   "metadata": {},
   "source": [
    "### Damped Harmonic oscillator"
   ]
  },
  {
   "cell_type": "markdown",
   "metadata": {},
   "source": [
    "If damping effect exist in the oscillator, the motion is described by the differential equation:\n",
    "\\begin{align}\n",
    "\\frac{d^2x}{dt^2}+2\\alpha\\frac{dx}{dt}+\\omega^2 x=0\n",
    "\\end{align}\n",
    "\n",
    "The solution is given by:\n",
    "The solution to the equation is\n",
    "\\begin{align}\n",
    "x=Ae^{i\\lambda_1 t}+Be^{i \\lambda_2 t}\n",
    "\\end{align}\n",
    "\n",
    "where\n",
    "\\begin{align}\n",
    "\\lambda_{1/2}=-\\alpha\\pm i \\sqrt{\\omega^2-\\alpha^2}\n",
    "\\end{align}\n",
    "\n",
    "In accelerator, we almost always have weak damping effect only, i.e. $\\omega \\gg \\alpha$"
   ]
  },
  {
   "cell_type": "code",
   "execution_count": null,
   "metadata": {},
   "outputs": [],
   "source": []
  }
 ],
 "metadata": {
  "kernelspec": {
   "display_name": "Python 3",
   "language": "python",
   "name": "python3"
  },
  "language_info": {
   "codemirror_mode": {
    "name": "ipython",
    "version": 3
   },
   "file_extension": ".py",
   "mimetype": "text/x-python",
   "name": "python",
   "nbconvert_exporter": "python",
   "pygments_lexer": "ipython3",
   "version": "3.6.5"
  },
  "latex_envs": {
   "LaTeX_envs_menu_present": true,
   "autoclose": false,
   "autocomplete": false,
   "bibliofile": "biblio.bib",
   "cite_by": "apalike",
   "current_citInitial": 1,
   "eqLabelWithNumbers": true,
   "eqNumInitial": 1,
   "hotkeys": {
    "equation": "Ctrl-E",
    "itemize": "Ctrl-I"
   },
   "labels_anchors": false,
   "latex_user_defs": false,
   "report_style_numbering": false,
   "user_envs_cfg": false
  },
  "toc": {
   "base_numbering": 1,
   "nav_menu": {},
   "number_sections": true,
   "sideBar": true,
   "skip_h1_title": false,
   "title_cell": "Table of Contents",
   "title_sidebar": "Contents",
   "toc_cell": false,
   "toc_position": {},
   "toc_section_display": true,
   "toc_window_display": true
  }
 },
 "nbformat": 4,
 "nbformat_minor": 2
}
